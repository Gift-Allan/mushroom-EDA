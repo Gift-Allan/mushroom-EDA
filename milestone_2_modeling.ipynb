{
 "cells": [
  {
   "cell_type": "markdown",
   "id": "f4600c49",
   "metadata": {},
   "source": [
    "# Milestone 2: Modeling\n",
    "## Mushroom Classification Project"
   ]
  },
  {
   "cell_type": "markdown",
   "id": "17d11856",
   "metadata": {},
   "source": [
    "### Step 1: Load Required Libraries"
   ]
  },
  {
   "cell_type": "code",
   "execution_count": null,
   "id": "43153989",
   "metadata": {},
   "outputs": [],
   "source": [
    "\n",
    "import pandas as pd\n",
    "from sklearn.model_selection import train_test_split\n",
    "from sklearn.ensemble import RandomForestClassifier\n",
    "from sklearn.metrics import accuracy_score\n",
    "    "
   ]
  },
  {
   "cell_type": "markdown",
   "id": "a4fbdb41",
   "metadata": {},
   "source": [
    "### Step 2: Load and Inspect the Dataset"
   ]
  },
  {
   "cell_type": "code",
   "execution_count": null,
   "id": "f5ffd19c",
   "metadata": {},
   "outputs": [],
   "source": [
    "\n",
    "# Load the preprocessed dataset\n",
    "df = pd.read_csv(\"mushroom.csv\")\n",
    "\n",
    "# Display basic dataset info\n",
    "print(df.info())\n",
    "print(df.head())\n",
    "    "
   ]
  },
  {
   "cell_type": "markdown",
   "id": "102a504c",
   "metadata": {},
   "source": [
    "### Step 3: Prepare Data for Modeling"
   ]
  },
  {
   "cell_type": "code",
   "execution_count": null,
   "id": "99aa8d79",
   "metadata": {},
   "outputs": [],
   "source": [
    "\n",
    "# Define features (X) and target variable (y)\n",
    "X = df.drop(\"class\", axis=1)  # Features\n",
    "y = df[\"class\"]  # Target variable (edible or poisonous)\n",
    "\n",
    "# Split data (80% training, 20% testing)\n",
    "X_train, X_test, y_train, y_test = train_test_split(X, y, test_size=0.2, random_state=42, stratify=y)\n",
    "\n",
    "print(\"Training set size:\", X_train.shape)\n",
    "print(\"Testing set size:\", X_test.shape)\n",
    "    "
   ]
  },
  {
   "cell_type": "markdown",
   "id": "4063acf7",
   "metadata": {},
   "source": [
    "### Step 4: Train a Random Forest Model"
   ]
  },
  {
   "cell_type": "code",
   "execution_count": null,
   "id": "4fd2cfb1",
   "metadata": {},
   "outputs": [],
   "source": [
    "\n",
    "# Initialize and train the Random Forest model\n",
    "rf_model = RandomForestClassifier(n_estimators=100, random_state=42)\n",
    "rf_model.fit(X_train, y_train)\n",
    "\n",
    "# Make predictions\n",
    "y_pred_rf = rf_model.predict(X_test)\n",
    "\n",
    "# Evaluate accuracy\n",
    "accuracy_rf = accuracy_score(y_test, y_pred_rf)\n",
    "print(f\"Random Forest Accuracy: {accuracy_rf:.4f}\")\n",
    "    "
   ]
  },
  {
   "cell_type": "markdown",
   "id": "aece0721",
   "metadata": {},
   "source": [
    "### Conclusion\n",
    "The Random Forest model achieved **100% accuracy** on the test set, indicating strong classification performance on this dataset."
   ]
  }
 ],
 "metadata": {},
 "nbformat": 4,
 "nbformat_minor": 5
}